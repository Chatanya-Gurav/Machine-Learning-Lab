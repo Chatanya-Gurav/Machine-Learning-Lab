{
 "cells": [
  {
   "cell_type": "code",
   "execution_count": null,
   "id": "9ae2edd5",
   "metadata": {},
   "outputs": [],
   "source": [
    "print(\"dfsbnsdm\")"
   ]
  },
  {
   "cell_type": "code",
   "execution_count": null,
   "id": "e60865c9",
   "metadata": {},
   "outputs": [],
   "source": [
    "import pandas as pd\n",
    "import numpy as np\n",
    "import matplotlib.pyplot as plt\n",
    "#to ignore warnings\n",
    "import warnings\n",
    "warnings.filterwarnings('ignore')"
   ]
  },
  {
   "cell_type": "code",
   "execution_count": null,
   "id": "1f5ed23d",
   "metadata": {},
   "outputs": [],
   "source": [
    "data = pd.read_csv('used_cars_data (1).csv')"
   ]
  },
  {
   "cell_type": "code",
   "execution_count": null,
   "id": "22631e1d",
   "metadata": {},
   "outputs": [],
   "source": [
    "data.head(5)"
   ]
  },
  {
   "cell_type": "code",
   "execution_count": null,
   "id": "9b647876",
   "metadata": {},
   "outputs": [],
   "source": [
    "data.tail()"
   ]
  },
  {
   "cell_type": "code",
   "execution_count": null,
   "id": "9e479115",
   "metadata": {},
   "outputs": [],
   "source": [
    "data.info()"
   ]
  },
  {
   "cell_type": "code",
   "execution_count": null,
   "id": "695dc419",
   "metadata": {},
   "outputs": [],
   "source": [
    "# Remove S.No. column from data\n",
    "data = data.drop(['S.No.'], axis = 1)\n",
    "data.info()"
   ]
  },
  {
   "cell_type": "code",
   "execution_count": null,
   "id": "6580be2e",
   "metadata": {},
   "outputs": [],
   "source": [
    "from datetime import date\n",
    "date.today().year\n",
    "data['Car_Age']=date.today().year-data['Year']\n",
    "data.head()"
   ]
  },
  {
   "cell_type": "code",
   "execution_count": null,
   "id": "47325c6d",
   "metadata": {},
   "outputs": [],
   "source": [
    "data['Brand'] = data.Name.str.split().str.get(0)"
   ]
  },
  {
   "cell_type": "code",
   "execution_count": null,
   "id": "570153d4",
   "metadata": {},
   "outputs": [],
   "source": [
    "data['Model'] = data.Name.str.split().str.get(1) + data.Name.str.split().str.get(2)"
   ]
  },
  {
   "cell_type": "code",
   "execution_count": null,
   "id": "807c6a54",
   "metadata": {},
   "outputs": [],
   "source": [
    "data[['Name','Brand','Model']]"
   ]
  },
  {
   "cell_type": "code",
   "execution_count": null,
   "id": "5d5032d8",
   "metadata": {},
   "outputs": [],
   "source": [
    "print(data.Brand.unique())\n",
    "print(data.Brand.nunique())"
   ]
  },
  {
   "cell_type": "code",
   "execution_count": null,
   "id": "43ab2e6f",
   "metadata": {},
   "outputs": [],
   "source": [
    "searchfor = ['Isuzu' ,'ISUZU','Mini','Land']\n",
    "data[data.Brand.str.contains('|'.join(searchfor))].head(5)"
   ]
  },
  {
   "cell_type": "code",
   "execution_count": null,
   "id": "4f69a9b5",
   "metadata": {},
   "outputs": [],
   "source": [
    "data[\"Brand\"].replace({\"ISUZU\": \"Isuzu\", \"Mini\": \"Mini Cooper\",\"Land\":\"Land Rover\"}, inplace=True)"
   ]
  },
  {
   "cell_type": "code",
   "execution_count": null,
   "id": "3977dac6",
   "metadata": {},
   "outputs": [],
   "source": [
    "data.describe().T"
   ]
  },
  {
   "cell_type": "code",
   "execution_count": null,
   "id": "e3bed297",
   "metadata": {},
   "outputs": [],
   "source": [
    "data.describe(include='all').T"
   ]
  },
  {
   "cell_type": "code",
   "execution_count": null,
   "id": "b0e2f238",
   "metadata": {},
   "outputs": [],
   "source": [
    "cat_cols=data.select_dtypes(include=['object']).columns\n",
    "num_cols = data.select_dtypes(include=np.number).columns.tolist()\n",
    "print(\"Categorical Variables:\")\n",
    "print(cat_cols)\n",
    "print(\"Numerical Variables:\")\n",
    "print(num_cols)"
   ]
  },
  {
   "cell_type": "code",
   "execution_count": null,
   "id": "cd415f37",
   "metadata": {},
   "outputs": [],
   "source": [
    "owner_counts = data['Owner_Type'].value_counts()\n",
    "\n",
    "# Bar Plot\n",
    "plt.figure(figsize=(7, 4))\n",
    "owner_counts.plot(kind='bar', color='teal')\n",
    "plt.title('Distribution of Owner Types')\n",
    "plt.xlabel('Owner Type')\n",
    "plt.ylabel('Number of Cars')\n",
    "plt.xticks(rotation=0)\n",
    "plt.grid(axis='y', linestyle='--', alpha=0.7)\n",
    "plt.tight_layout()\n",
    "plt.show()"
   ]
  },
  {
   "cell_type": "code",
   "execution_count": null,
   "id": "29931001",
   "metadata": {},
   "outputs": [],
   "source": [
    "transmission_counts = data['Transmission'].value_counts()\n",
    "plt.figure(figsize=(6, 4))\n",
    "transmission_counts.plot(kind='bar', color='orange')\n",
    "plt.title('Distribution of Transmission Types')\n",
    "plt.xlabel('Transmission Type')\n",
    "plt.ylabel('Number of Cars')\n",
    "plt.xticks(rotation=0)\n",
    "plt.grid(axis='y', linestyle='--', alpha=0.7)\n",
    "plt.tight_layout()\n",
    "plt.show()\n"
   ]
  },
  {
   "cell_type": "code",
   "execution_count": null,
   "id": "fa4ce9c4",
   "metadata": {},
   "outputs": [],
   "source": [
    "plt.figure(figsize=(6, 6))\n",
    "transmission_counts.plot(kind='pie', autopct='%1.1f%%', startangle=90)\n",
    "plt.title('Transmission Type Distribution')\n",
    "plt.ylabel('')\n",
    "plt.tight_layout()\n",
    "plt.show()"
   ]
  },
  {
   "cell_type": "code",
   "execution_count": null,
   "id": "5371a530",
   "metadata": {},
   "outputs": [],
   "source": [
    "plt.figure(figsize=(8, 5))\n",
    "data['Price'].dropna().plot(kind='hist', bins=30, color='red', edgecolor='black')\n",
    "plt.title(' Car Prices')\n",
    "plt.xlabel('Price')\n",
    "plt.ylabel('Number of Cars')\n",
    "plt.grid(axis='y', linestyle='--', alpha=0.7)\n",
    "plt.tight_layout()\n",
    "plt.show()"
   ]
  },
  {
   "cell_type": "code",
   "execution_count": null,
   "id": "692f8b7c",
   "metadata": {},
   "outputs": [],
   "source": [
    "fuel_mileage = data_clean.groupby('Fuel_Type')['Mileage'].mean().sort_values(ascending=False)\n",
    "\n",
    "plt.figure(figsize=(8, 5))\n",
    "fuel_mileage.plot(kind='bar', color='yellow', edgecolor='black')\n",
    "plt.title('Average Mileage by Fuel Type')\n",
    "plt.xlabel('Fuel Type')\n",
    "plt.ylabel('Average Mileage')\n",
    "plt.grid(True, axis='y')\n",
    "plt.tight_layout()\n",
    "plt.show()"
   ]
  },
  {
   "cell_type": "code",
   "execution_count": null,
   "id": "1e0236ce",
   "metadata": {},
   "outputs": [],
   "source": [
    "data_clean = data.dropna(subset=['Mileage', 'Car_Age'])\n",
    "plt.figure(figsize=(10, 6))\n",
    "plt.scatter(data_clean['Car_Age'], data_clean['Mileage'],  color='green', edgecolors='black')\n",
    "plt.title('Scatter Plot of Mileage by Car Age')\n",
    "plt.xlabel('Car Age')\n",
    "plt.ylabel('Mileage')\n",
    "plt.grid(True)\n",
    "plt.tight_layout()\n",
    "plt.show()"
   ]
  }
 ],
 "metadata": {
  "kernelspec": {
   "display_name": "Python 3",
   "language": "python",
   "name": "python3"
  },
  "language_info": {
   "codemirror_mode": {
    "name": "ipython",
    "version": 3
   },
   "file_extension": ".py",
   "mimetype": "text/x-python",
   "name": "python",
   "nbconvert_exporter": "python",
   "pygments_lexer": "ipython3",
   "version": "3.13.5"
  }
 },
 "nbformat": 4,
 "nbformat_minor": 5
}
